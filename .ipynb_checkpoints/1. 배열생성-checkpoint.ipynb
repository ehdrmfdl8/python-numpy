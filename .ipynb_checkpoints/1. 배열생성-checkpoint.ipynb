{
 "cells": [
  {
   "cell_type": "markdown",
   "metadata": {},
   "source": [
    "# Numpy\n",
    "_____________"
   ]
  },
  {
   "cell_type": "markdown",
   "metadata": {},
   "source": [
    "numpy는 벡터 행렬 계산을 효율적으로 처리하기 위한 모듈입니다.\n",
    "\n",
    "numeric 모듈과 Numarray 모듈이 합쳐져 __높은 수준의 다차원 배열 계산__을 고속 및 효율적으로 처리할 수 있습니다.\n",
    "\n",
    "numpy 모듈은 pip를 통하여 설치할 수 있습니다."
   ]
  },
  {
   "cell_type": "markdown",
   "metadata": {},
   "source": [
    "# Numpy 사용\n",
    "____"
   ]
  },
  {
   "cell_type": "code",
   "execution_count": 1,
   "metadata": {},
   "outputs": [],
   "source": [
    "import numpy"
   ]
  },
  {
   "cell_type": "markdown",
   "metadata": {},
   "source": [
    "상단에 import numpy를 사용하여 numpy를 포함시킵니다.\n",
    "\n",
    "numpy 함수의 사용방법은 numpy.*를 사용하여 사용이 가능합니다."
   ]
  },
  {
   "cell_type": "code",
   "execution_count": 2,
   "metadata": {},
   "outputs": [],
   "source": [
    "import numpy as np"
   ]
  },
  {
   "cell_type": "markdown",
   "metadata": {},
   "source": [
    "as 구문이 추가될 경우, numpy.* 에서 np.* 으로 축약해서 사용할 수 있습니다."
   ]
  },
  {
   "cell_type": "markdown",
   "metadata": {},
   "source": [
    "# numpy 배열 생성\n",
    "____"
   ]
  },
  {
   "cell_type": "code",
   "execution_count": 4,
   "metadata": {},
   "outputs": [
    {
     "name": "stdout",
     "output_type": "stream",
     "text": [
      "[1, 2, 3, 4, 5]\n",
      "[1 2 3 4 5]\n",
      "[1 3 5]\n"
     ]
    }
   ],
   "source": [
    "import numpy as np\n",
    "\n",
    "a = [1, 2, 3, 4, 5]\n",
    "b = np.array(a)\n",
    "c = np.array([1, 3, 5])\n",
    "\n",
    "print(a)\n",
    "print(b)\n",
    "print(c)"
   ]
  },
  {
   "cell_type": "markdown",
   "metadata": {},
   "source": [
    "numpy.array(배열)을 사용하여 numpy 배열을 생성할 수 있습니다.\n",
    "\n",
    "numpy는 list와 비슷하지만, 배열안에 콤마(,) 가 존재하지 않습니다.\n",
    "\n",
    "또한, list 형식으로 생성된 배열을 numpy 형식으로 변경할 수 있습니다."
   ]
  },
  {
   "cell_type": "markdown",
   "metadata": {},
   "source": [
    "# numpy 배열 복제\n",
    "____"
   ]
  },
  {
   "cell_type": "code",
   "execution_count": 5,
   "metadata": {},
   "outputs": [
    {
     "name": "stdout",
     "output_type": "stream",
     "text": [
      "[99  2  3  4  5]\n",
      "[99  2  3  4  5]\n",
      "[1 2 3 4 5]\n"
     ]
    }
   ],
   "source": [
    "import numpy as np\n",
    "\n",
    "a = np.array([1,2,3,4,5])\n",
    "b = a\n",
    "c = a.copy()\n",
    "\n",
    "b[0] = 99\n",
    "\n",
    "print(a)\n",
    "print(b)\n",
    "print(c)"
   ]
  },
  {
   "cell_type": "markdown",
   "metadata": {},
   "source": [
    "numpy 배열은 list, tuple 등과 동일하게 복사하여 값을 변경할 경우, __원본의 값도 변경됩니다.__\n",
    "\n",
    "numpy배열.copy()를 통하여 복제할 경우, __원본과 별개의 배열이 생성됩니다.__"
   ]
  },
  {
   "cell_type": "markdown",
   "metadata": {},
   "source": [
    "# numpy 배열 호출\n",
    "____"
   ]
  },
  {
   "cell_type": "code",
   "execution_count": 6,
   "metadata": {},
   "outputs": [
    {
     "name": "stdout",
     "output_type": "stream",
     "text": [
      "3\n",
      "5\n",
      "[1 3]\n"
     ]
    }
   ],
   "source": [
    "import numpy as np\n",
    "\n",
    "a = [1, 2, 3, 4, 5]\n",
    "b = np.array(a)\n",
    "c = np.array([1, 3, 5])\n",
    "\n",
    "print(b[2])\n",
    "print(c[-1])\n",
    "print(c[0:2])"
   ]
  },
  {
   "cell_type": "markdown",
   "metadata": {},
   "source": [
    "list와 동일하게 배열 내의 원소를 대괄호([]) 를 이용하여 호출할 수 있습니다."
   ]
  },
  {
   "cell_type": "markdown",
   "metadata": {},
   "source": [
    "# numpy 배열 계산\n",
    "____"
   ]
  },
  {
   "cell_type": "code",
   "execution_count": 7,
   "metadata": {},
   "outputs": [
    {
     "name": "stdout",
     "output_type": "stream",
     "text": [
      "[1, 2, 3, 4, 5, 1, 2, 3, 4, 5]\n",
      "[ 2  4  6  8 10]\n",
      "[ 3  9 15]\n"
     ]
    }
   ],
   "source": [
    "import numpy as np\n",
    "\n",
    "a = [1, 2, 3, 4, 5]\n",
    "b = np.array(a)\n",
    "c = np.array([1, 3, 5])\n",
    "\n",
    "print(a*2)\n",
    "print(b*2)\n",
    "print(c*3)"
   ]
  },
  {
   "cell_type": "markdown",
   "metadata": {},
   "source": [
    "numpy는 list와 다르게 수학 기호를 사용한다면 __각각의 원소로 계산하여 반환합니다.__\n",
    "\n",
    "list의 경우 *기호 사용시 해당 배열을 이어붙이지만, numpy의 경우 __연산을 실행합니다.__\n",
    "\n",
    "    * TIP: numpy를 사용할 경우, list comprehension을 사용하지 않아도 원소의 값을 연산할 수 있습니다."
   ]
  },
  {
   "cell_type": "code",
   "execution_count": null,
   "metadata": {},
   "outputs": [],
   "source": []
  }
 ],
 "metadata": {
  "kernelspec": {
   "display_name": "Python 3",
   "language": "python",
   "name": "python3"
  },
  "language_info": {
   "codemirror_mode": {
    "name": "ipython",
    "version": 3
   },
   "file_extension": ".py",
   "mimetype": "text/x-python",
   "name": "python",
   "nbconvert_exporter": "python",
   "pygments_lexer": "ipython3",
   "version": "3.6.8"
  }
 },
 "nbformat": 4,
 "nbformat_minor": 2
}
